{
 "cells": [
  {
   "cell_type": "code",
   "execution_count": 92,
   "metadata": {},
   "outputs": [],
   "source": [
    "import numpy as np \n",
    "import pandas as pd \n",
    "from scipy import signal\n",
    "import matplotlib.pyplot as plt \n",
    "import math\n",
    "from sklearn import preprocessing\n",
    "from sklearn.neighbors import KNeighborsClassifier\n",
    "from sklearn.metrics import make_scorer, accuracy_score, confusion_matrix\n",
    "from sklearn.svm import SVC\n",
    "from sklearn.model_selection import GridSearchCV"
   ]
  },
  {
   "cell_type": "code",
   "execution_count": 155,
   "metadata": {},
   "outputs": [],
   "source": [
    "#Commented by: James Xi Zheng 12/Aug/2019\n",
    "#please create functions to do the following jobs\n",
    "#1. load dataset ->  sample code availalable in the workshops\n",
    "#2. visualize data -> sample code given\n",
    "#3. remove signal noises -> sample code given\n",
    "#4. extract features -> sample code given\n",
    "#5. prepare training set -> sample code given \n",
    "#6. training the given models -> sample code given\n",
    "#7. test the given models -> sample code given\n",
    "#8. print out the evaluation results -> sample code given\n",
    "\n",
    "#as I said in the lecture, the sample code is completed in a un-professional software engineering style\n",
    "#software refactoring is required\n",
    "#please manage the project using SCRUM sprints and manage the source code using Github\n",
    "#document your progress and think critically what are missing from such IoT application and what are missing to move such IoT application from PoC (proof of concept) to solve real-world life\n",
    "#think with which components added, what kind of real-world problems can be solved by it -> this shall be discussed in the conclusion part in the document\n",
    "\n",
    "'''\n",
    "At first, we should explore the raw time-series sensor data. We could draw line plot of sensor signals.\n",
    "In this example code, the wrist sensor accelerometer data dataset_1 sitting activity is visualized. \n",
    "\n",
    "'''\n",
    "def data_visulization():\n",
    "    # read dataset file\n",
    "        df = pd.read_csv('dataset_1.txt', sep=',', header=None)\n",
    "        df_sitting = df[df[24] == 1].values\n",
    "    # In this example code, only accelerometer 1 data (column 1 to 3) is used\n",
    "        plt.plot(df_sitting[:, 0:3])\n",
    "        plt.show()"
   ]
  },
  {
   "cell_type": "code",
   "execution_count": 156,
   "metadata": {},
   "outputs": [],
   "source": [
    "def gyro():\n",
    "    # read dataset file\n",
    "        df = pd.read_csv('dataset_1.txt', sep=',', header=None)\n",
    "        df_sitting = df[df[24] == 1].values\n",
    "    # In this example code, only accelerometer 1 data (column 1 to 3) is used\n",
    "        plt.plot(df_sitting[:, 3:6])\n",
    "        plt.show()"
   ]
  },
  {
   "cell_type": "code",
   "execution_count": 157,
   "metadata": {},
   "outputs": [],
   "source": [
    "'''\n",
    "For raw sensor data, it usually contains noise that arises from different sources, such as sensor mis-\n",
    "calibration, sensor errors, errors in sensor placement, or noisy environments. We could apply filter to remove noise of sensor data\n",
    "to smooth data. In this example code, Butterworth low-pass filter is applied. \n",
    "'''\n",
    "def noise_removing():\n",
    "    df = pd.read_csv('dataset_1.txt', sep=',', header=None)\n",
    "    # Butterworth low-pass filter. You could try different parameters and other filters. \n",
    "    b, a = signal.butter(4, 0.04, 'low', analog=False)\n",
    "    df_sitting = df[df[24] == 1].values\n",
    "    for i in range(3):\n",
    "        df_sitting[:,i] = signal.lfilter(b, a, df_sitting[:, i])\n",
    "    plt.plot(df_sitting[:, 0:3])\n",
    "    plt.show()"
   ]
  },
  {
   "cell_type": "code",
   "execution_count": 164,
   "metadata": {},
   "outputs": [],
   "source": [
    "def noise_removingGyro():\n",
    "    df = pd.read_csv('dataset_1.txt', sep=',', header=None)\n",
    "    # Butterworth low-pass filter. You could try different parameters and other filters. \n",
    "    b, a = signal.butter(4, 0.04, 'low', analog=False)\n",
    "    df_sitting = df[df[24] == 1].values\n",
    "    df_sitting[:,3:6] = signal.lfilter(b, a, df_sitting[:, 3:6])\n",
    "    plt.plot(df_sitting[:, 3:6])\n",
    "    plt.show()"
   ]
  },
  {
   "cell_type": "code",
   "execution_count": 115,
   "metadata": {},
   "outputs": [],
   "source": [
    "'''\n",
    "To build a human activity recognition system, we need to extract features from raw data and create feature dataset for training \n",
    "machine learning models.\n",
    "\n",
    "Please create new functions to implement your own feature engineering. The function should output training and testing dataset.\n",
    "'''\n",
    "\n",
    "def feature_engineering_example():\n",
    "    training = np.empty(shape=(0, 10))\n",
    "    testing = np.empty(shape=(0, 10))\n",
    "    # deal with each dataset file\n",
    "    for i in range(19):\n",
    "        df = pd.read_csv('dataset_' + str(i + 1) + '.txt', sep=',', header=None)\n",
    "        #print('deal with dataset ' + str(i + 1))\n",
    "        for c in range(1, 14):\n",
    "            activity_data = df[df[24] == c].values\n",
    "            b, a = signal.butter(4, 0.04, 'low', analog=False)\n",
    "            for j in range(24):\n",
    "                activity_data[:, j] = signal.lfilter(b, a, activity_data[:, j])\n",
    "            \n",
    "            datat_len = len(activity_data)\n",
    "            training_len = math.floor(datat_len * 0.8)\n",
    "            training_data = activity_data[:training_len, :]\n",
    "            testing_data = activity_data[training_len:, :]\n"
   ]
  },
  {
   "cell_type": "code",
   "execution_count": 138,
   "metadata": {},
   "outputs": [],
   "source": [
    "\n",
    "    df = pd.read_csv('dataset_1.txt', sep=',', header=None)\n",
    "    FEng= df[df[24]==1].values\n",
    "    seg=FEng[:,:3]\n",
    "    a1_max =np.max(seg[:,:3])\n",
    "    a1_min=np.min(seg[:,:3])\n",
    "    a1_std=np.std(seg[:,:3])\n",
    "    a1_mean=np.mean(seg[:,:3])"
   ]
  },
  {
   "cell_type": "code",
   "execution_count": 139,
   "metadata": {},
   "outputs": [
    {
     "data": {
      "text/plain": [
       "2.6731"
      ]
     },
     "execution_count": 139,
     "metadata": {},
     "output_type": "execute_result"
    }
   ],
   "source": [
    "a1_max"
   ]
  },
  {
   "cell_type": "code",
   "execution_count": 86,
   "metadata": {},
   "outputs": [
    {
     "data": {
      "text/plain": [
       "-1.0329"
      ]
     },
     "execution_count": 86,
     "metadata": {},
     "output_type": "execute_result"
    }
   ],
   "source": [
    "a1_min\n"
   ]
  },
  {
   "cell_type": "code",
   "execution_count": 101,
   "metadata": {},
   "outputs": [
    {
     "data": {
      "text/plain": [
       "0.4769458302441568"
      ]
     },
     "execution_count": 101,
     "metadata": {},
     "output_type": "execute_result"
    }
   ],
   "source": [
    "a1_std"
   ]
  },
  {
   "cell_type": "code",
   "execution_count": 103,
   "metadata": {},
   "outputs": [
    {
     "data": {
      "text/plain": [
       "0.3312187026091673"
      ]
     },
     "execution_count": 103,
     "metadata": {},
     "output_type": "execute_result"
    }
   ],
   "source": [
    "a1_mean"
   ]
  },
  {
   "cell_type": "code",
   "execution_count": 58,
   "metadata": {},
   "outputs": [
    {
     "ename": "IndentationError",
     "evalue": "unindent does not match any outer indentation level (<tokenize>, line 13)",
     "output_type": "error",
     "traceback": [
      "\u001b[1;36m  File \u001b[1;32m\"<tokenize>\"\u001b[1;36m, line \u001b[1;32m13\u001b[0m\n\u001b[1;33m    for s in range(testing_sample_number):\u001b[0m\n\u001b[1;37m    ^\u001b[0m\n\u001b[1;31mIndentationError\u001b[0m\u001b[1;31m:\u001b[0m unindent does not match any outer indentation level\n"
     ]
    }
   ],
   "source": [
    "   # in this example code, only three accelerometer data in wrist sensor is used to extract three simple features: min, max, and mean value in\n",
    "                # a period of time. Finally we get 9 features and 1 label to construct feature dataset. You may consider all sensors' data and extract more    \n",
    "    \n",
    "    feature_sample = []\n",
    "                for i in range(3):\n",
    "                    feature_sample.append(np.min(sample_data[:, i]))\n",
    "                    feature_sample.append(np.max(sample_data[:, i]))\n",
    "                    feature_sample.append(np.mean(sample_data[:, i]))\n",
    "                feature_sample.append(sample_data[0, -1])\n",
    "                feature_sample = np.array([feature_sample])\n",
    "                training = np.concatenate((training, feature_sample), axis=0)\n",
    "            \n",
    "            for s in range(testing_sample_number):\n",
    "                if s < training_sample_number - 1:\n",
    "                    sample_data = testing_data[1000*s:1000*(s + 1), :]\n",
    "                else:\n",
    "                    sample_data = testing_data[1000*s:, :]\n",
    "\n",
    "                feature_sample = []\n",
    "                for i in range(3):\n",
    "                    feature_sample.append(np.min(sample_data[:, i]))\n",
    "                    feature_sample.append(np.max(sample_data[:, i]))\n",
    "                    feature_sample.append(np.mean(sample_data[:, i]))\n",
    "                feature_sample.append(sample_data[0, -1])\n",
    "                feature_sample = np.array([feature_sample])\n",
    "                testing = np.concatenate((testing, feature_sample), axis=0)\n",
    "\n",
    "    df_training = pd.DataFrame(training)\n",
    "    df_testing = pd.DataFrame(testing)\n",
    "    df_training.to_csv('training_data.csv', index=None, header=None)\n",
    "    df_testing.to_csv('testing_data.csv', index=None, header=None)"
   ]
  },
  {
   "cell_type": "code",
   "execution_count": 38,
   "metadata": {},
   "outputs": [],
   "source": [
    "'''\n",
    "When we have training and testing feature set, we could build machine learning models to recognize human activities.\n",
    "\n",
    "Please create new functions to fit your features and try other models.\n",
    "\n",
    "'''\n",
    "\n",
    "def model_training_and_evaluation_example():\n",
    "    df_training = pd.read_csv('training_data.csv', header=None)\n",
    "    df_testing = pd.read_csv('testing_data.csv', header=None)\n",
    "\n",
    "    y_train = df_training[9].values\n",
    "    # Labels should start from 0 in sklearn\n",
    "    y_train = y_train - 1\n",
    "    df_training = df_training.drop([9], axis=1)\n",
    "    X_train = df_training.values\n",
    "\n",
    "    y_test = df_testing[9].values\n",
    "    y_test = y_test - 1\n",
    "    df_testing = df_testing.drop([9], axis=1)\n",
    "    X_test = df_testing.values"
   ]
  },
  {
   "cell_type": "code",
   "execution_count": 23,
   "metadata": {},
   "outputs": [
    {
     "ename": "IndentationError",
     "evalue": "unexpected indent (<ipython-input-23-caf650ee2792>, line 3)",
     "output_type": "error",
     "traceback": [
      "\u001b[1;36m  File \u001b[1;32m\"<ipython-input-23-caf650ee2792>\"\u001b[1;36m, line \u001b[1;32m3\u001b[0m\n\u001b[1;33m    scaler = preprocessing.StandardScaler().fit(X_train)\u001b[0m\n\u001b[1;37m    ^\u001b[0m\n\u001b[1;31mIndentationError\u001b[0m\u001b[1;31m:\u001b[0m unexpected indent\n"
     ]
    }
   ],
   "source": [
    " # Feature normalization for improving the performance of machine learning models. In this example code, \n",
    "    # StandardScaler is used to scale original feature to be centered around zero. You could try other normalization methods.\n",
    "    scaler = preprocessing.StandardScaler().fit(X_train)\n",
    "    X_train = scaler.transform(X_train)\n",
    "    X_test = scaler.transform(X_test)\n"
   ]
  },
  {
   "cell_type": "code",
   "execution_count": 24,
   "metadata": {},
   "outputs": [
    {
     "ename": "IndentationError",
     "evalue": "unexpected indent (<ipython-input-24-e7f0a0a2e429>, line 2)",
     "output_type": "error",
     "traceback": [
      "\u001b[1;36m  File \u001b[1;32m\"<ipython-input-24-e7f0a0a2e429>\"\u001b[1;36m, line \u001b[1;32m2\u001b[0m\n\u001b[1;33m    knn = KNeighborsClassifier(n_neighbors=3)\u001b[0m\n\u001b[1;37m    ^\u001b[0m\n\u001b[1;31mIndentationError\u001b[0m\u001b[1;31m:\u001b[0m unexpected indent\n"
     ]
    }
   ],
   "source": [
    " # Build KNN classifier, in this example code\n",
    "    knn = KNeighborsClassifier(n_neighbors=3)\n",
    "    knn.fit(X_train, y_train)"
   ]
  },
  {
   "cell_type": "code",
   "execution_count": 25,
   "metadata": {},
   "outputs": [
    {
     "ename": "IndentationError",
     "evalue": "unexpected indent (<ipython-input-25-ba97888afdea>, line 4)",
     "output_type": "error",
     "traceback": [
      "\u001b[1;36m  File \u001b[1;32m\"<ipython-input-25-ba97888afdea>\"\u001b[1;36m, line \u001b[1;32m4\u001b[0m\n\u001b[1;33m    y_pred = knn.predict(X_test)\u001b[0m\n\u001b[1;37m    ^\u001b[0m\n\u001b[1;31mIndentationError\u001b[0m\u001b[1;31m:\u001b[0m unexpected indent\n"
     ]
    }
   ],
   "source": [
    "# Evaluation. when we train a machine learning model on training set, we should evaluate its performance on testing set.\n",
    "    # We could evaluate the model by different metrics. Firstly, we could calculate the classification accuracy. In this example\n",
    "    # code, when n_neighbors is set to 4, the accuracy achieves 0.757.\n",
    "    y_pred = knn.predict(X_test)\n",
    "    print('Accuracy: ', accuracy_score(y_test, y_pred))\n",
    "    # We could use confusion matrix to view the classification for each activity.\n",
    "    print(confusion_matrix(y_test, y_pred))"
   ]
  },
  {
   "cell_type": "code",
   "execution_count": 26,
   "metadata": {},
   "outputs": [
    {
     "ename": "NameError",
     "evalue": "name 'X_train' is not defined",
     "output_type": "error",
     "traceback": [
      "\u001b[1;31m---------------------------------------------------------------------------\u001b[0m",
      "\u001b[1;31mNameError\u001b[0m                                 Traceback (most recent call last)",
      "\u001b[1;32m<ipython-input-26-eacf853b60ee>\u001b[0m in \u001b[0;36m<module>\u001b[1;34m\u001b[0m\n\u001b[0;32m      9\u001b[0m \u001b[0macc_scorer\u001b[0m \u001b[1;33m=\u001b[0m \u001b[0mmake_scorer\u001b[0m\u001b[1;33m(\u001b[0m\u001b[0maccuracy_score\u001b[0m\u001b[1;33m)\u001b[0m\u001b[1;33m\u001b[0m\u001b[1;33m\u001b[0m\u001b[0m\n\u001b[0;32m     10\u001b[0m \u001b[0mgrid_obj\u001b[0m  \u001b[1;33m=\u001b[0m \u001b[0mGridSearchCV\u001b[0m\u001b[1;33m(\u001b[0m\u001b[0mSVC\u001b[0m\u001b[1;33m(\u001b[0m\u001b[1;33m)\u001b[0m\u001b[1;33m,\u001b[0m \u001b[0mtuned_parameters\u001b[0m\u001b[1;33m,\u001b[0m \u001b[0mcv\u001b[0m\u001b[1;33m=\u001b[0m\u001b[1;36m10\u001b[0m\u001b[1;33m,\u001b[0m \u001b[0mscoring\u001b[0m\u001b[1;33m=\u001b[0m\u001b[0macc_scorer\u001b[0m\u001b[1;33m)\u001b[0m\u001b[1;33m\u001b[0m\u001b[1;33m\u001b[0m\u001b[0m\n\u001b[1;32m---> 11\u001b[1;33m \u001b[0mgrid_obj\u001b[0m  \u001b[1;33m=\u001b[0m \u001b[0mgrid_obj\u001b[0m \u001b[1;33m.\u001b[0m\u001b[0mfit\u001b[0m\u001b[1;33m(\u001b[0m\u001b[0mX_train\u001b[0m\u001b[1;33m,\u001b[0m \u001b[0my_train\u001b[0m\u001b[1;33m)\u001b[0m\u001b[1;33m\u001b[0m\u001b[1;33m\u001b[0m\u001b[0m\n\u001b[0m\u001b[0;32m     12\u001b[0m \u001b[0mclf\u001b[0m \u001b[1;33m=\u001b[0m \u001b[0mgrid_obj\u001b[0m\u001b[1;33m.\u001b[0m\u001b[0mbest_estimator_\u001b[0m\u001b[1;33m\u001b[0m\u001b[1;33m\u001b[0m\u001b[0m\n\u001b[0;32m     13\u001b[0m \u001b[0mprint\u001b[0m\u001b[1;33m(\u001b[0m\u001b[1;34m'best clf:'\u001b[0m\u001b[1;33m,\u001b[0m \u001b[0mclf\u001b[0m\u001b[1;33m)\u001b[0m\u001b[1;33m\u001b[0m\u001b[1;33m\u001b[0m\u001b[0m\n",
      "\u001b[1;31mNameError\u001b[0m: name 'X_train' is not defined"
     ]
    }
   ],
   "source": [
    "    # Another machine learning model: svm. In this example code, we use gridsearch to find the optimial classifier\n",
    "    # It will take a long time to find the optimal classifier.\n",
    "    # the accuracy for SVM classifier with default parameters is 0.71, \n",
    "    # which is worse than KNN. The reason may be parameters of svm classifier are not optimal.  \n",
    "    # Another reason may be we only use 9 features and they are not enough to build a good svm classifier. \n",
    "    tuned_parameters = [{'kernel': ['rbf'], 'gamma': [1e-1,1e-2, 1e-3, 1e-4],\n",
    "                     'C': [1e-3, 1e-2, 1e-1, 1, 10, 100, 100]},\n",
    "                    {'kernel': ['linear'], 'C': [1e-3, 1e-2, 1e-1, 1, 10, 100]}]\n",
    "    acc_scorer = make_scorer(accuracy_score)\n",
    "    grid_obj  = GridSearchCV(SVC(), tuned_parameters, cv=10, scoring=acc_scorer)\n",
    "    grid_obj  = grid_obj .fit(X_train, y_train)\n",
    "    clf = grid_obj.best_estimator_\n",
    "    print('best clf:', clf)\n",
    "    clf.fit(X_train, y_train)\n",
    "    y_pred = clf.predict(X_test)\n",
    "    print('Accuracy: ', accuracy_score(y_test, y_pred))\n",
    "    print(confusion_matrix(y_test, y_pred))\n"
   ]
  },
  {
   "cell_type": "code",
   "execution_count": 166,
   "metadata": {},
   "outputs": [
    {
     "data": {
      "image/png": "[encoded data removed]",
      "text/plain": [
       "<Figure size 432x288 with 1 Axes>"
      ]
     },
     "metadata": {
      "needs_background": "light"
     },
     "output_type": "display_data"
    },
    {
     "data": {
      "image/png": "[encoded data removed]",
      "text/plain": [
       "<Figure size 432x288 with 1 Axes>"
      ]
     },
     "metadata": {
      "needs_background": "light"
     },
     "output_type": "display_data"
    },
    {
     "data": {
      "image/png": "[encoded data removed]",
      "text/plain": [
       "<Figure size 432x288 with 1 Axes>"
      ]
     },
     "metadata": {
      "needs_background": "light"
     },
     "output_type": "display_data"
    },
    {
     "data": {
      "image/png": "[encoded data removed]",
      "text/plain": [
       "<Figure size 432x288 with 1 Axes>"
      ]
     },
     "metadata": {
      "needs_background": "light"
     },
     "output_type": "display_data"
    }
   ],
   "source": [
    "# print(\"# Tuning hyper-parameters for %s\" % score)\n",
    "# print()\n",
    "# clf = GridSearchCV(SVC(), tuned_parameters, cv=10,\n",
    "#                    scoring=score)\n",
    "# clf.fit(x_train, y_train)\n",
    "\n",
    "if __name__ == '__main__':\n",
    "    main()\n",
    "    \n",
    "    #data_visulization()\n",
    "    \n",
    "     # noise_removing\n",
    "     # feature_engineering_example\n",
    "    # model_training_and_evaluation_example"
   ]
  },
  {
   "cell_type": "code",
   "execution_count": 165,
   "metadata": {},
   "outputs": [],
   "source": [
    "def  main():\n",
    "    data_visulization()\n",
    "    noise_removing()\n",
    "    feature_engineering_example()\n",
    "    gyro()\n",
    "    noise_removingGyro()\n",
    "    #model_training_and_evaluation_example()"
   ]
  },
  {
   "cell_type": "code",
   "execution_count": 14,
   "metadata": {},
   "outputs": [
    {
     "name": "stdout",
     "output_type": "stream",
     "text": [
      "The dataset contains 301901 rows.\n"
     ]
    },
    {
     "data": {
      "text/html": [
       "<div>\n",
       "<style scoped>\n",
       "    .dataframe tbody tr th:only-of-type {\n",
       "        vertical-align: middle;\n",
       "    }\n",
       "\n",
       "    .dataframe tbody tr th {\n",
       "        vertical-align: top;\n",
       "    }\n",
       "\n",
       "    .dataframe thead th {\n",
       "        text-align: right;\n",
       "    }\n",
       "</style>\n",
       "<table border=\"1\" class=\"dataframe\">\n",
       "  <thead>\n",
       "    <tr style=\"text-align: right;\">\n",
       "      <th></th>\n",
       "      <th>0</th>\n",
       "      <th>1</th>\n",
       "      <th>2</th>\n",
       "      <th>3</th>\n",
       "      <th>4</th>\n",
       "      <th>5</th>\n",
       "      <th>6</th>\n",
       "      <th>7</th>\n",
       "      <th>8</th>\n",
       "      <th>9</th>\n",
       "      <th>...</th>\n",
       "      <th>15</th>\n",
       "      <th>16</th>\n",
       "      <th>17</th>\n",
       "      <th>18</th>\n",
       "      <th>19</th>\n",
       "      <th>20</th>\n",
       "      <th>21</th>\n",
       "      <th>22</th>\n",
       "      <th>23</th>\n",
       "      <th>24</th>\n",
       "    </tr>\n",
       "  </thead>\n",
       "  <tbody>\n",
       "    <tr>\n",
       "      <th>0</th>\n",
       "      <td>-0.28655</td>\n",
       "      <td>0.81335</td>\n",
       "      <td>0.51713</td>\n",
       "      <td>1.28540</td>\n",
       "      <td>0.301050</td>\n",
       "      <td>0.298940</td>\n",
       "      <td>-0.024521</td>\n",
       "      <td>-0.89867</td>\n",
       "      <td>0.35900</td>\n",
       "      <td>-4.16990</td>\n",
       "      <td>...</td>\n",
       "      <td>-0.016749</td>\n",
       "      <td>0.653400</td>\n",
       "      <td>-1.3317</td>\n",
       "      <td>-1.00280</td>\n",
       "      <td>0.002534</td>\n",
       "      <td>0.055983</td>\n",
       "      <td>-6.4436</td>\n",
       "      <td>11.1880</td>\n",
       "      <td>-1.57110</td>\n",
       "      <td>1</td>\n",
       "    </tr>\n",
       "    <tr>\n",
       "      <th>1</th>\n",
       "      <td>-0.28655</td>\n",
       "      <td>0.82538</td>\n",
       "      <td>0.51304</td>\n",
       "      <td>1.28540</td>\n",
       "      <td>-0.065115</td>\n",
       "      <td>-0.067229</td>\n",
       "      <td>0.014747</td>\n",
       "      <td>-0.91887</td>\n",
       "      <td>0.37508</td>\n",
       "      <td>-5.26840</td>\n",
       "      <td>...</td>\n",
       "      <td>-0.016749</td>\n",
       "      <td>0.287240</td>\n",
       "      <td>-1.6979</td>\n",
       "      <td>-0.99475</td>\n",
       "      <td>0.006390</td>\n",
       "      <td>0.036448</td>\n",
       "      <td>-6.4436</td>\n",
       "      <td>11.1880</td>\n",
       "      <td>-1.57110</td>\n",
       "      <td>1</td>\n",
       "    </tr>\n",
       "    <tr>\n",
       "      <th>2</th>\n",
       "      <td>-0.28655</td>\n",
       "      <td>0.82538</td>\n",
       "      <td>0.52938</td>\n",
       "      <td>1.28540</td>\n",
       "      <td>-0.065115</td>\n",
       "      <td>0.298940</td>\n",
       "      <td>-0.004887</td>\n",
       "      <td>-0.91079</td>\n",
       "      <td>0.37508</td>\n",
       "      <td>-4.90220</td>\n",
       "      <td>...</td>\n",
       "      <td>-0.016749</td>\n",
       "      <td>0.287240</td>\n",
       "      <td>-1.6979</td>\n",
       "      <td>-1.00280</td>\n",
       "      <td>0.006390</td>\n",
       "      <td>0.044262</td>\n",
       "      <td>-6.4436</td>\n",
       "      <td>11.1880</td>\n",
       "      <td>-1.57110</td>\n",
       "      <td>1</td>\n",
       "    </tr>\n",
       "    <tr>\n",
       "      <th>3</th>\n",
       "      <td>-0.27092</td>\n",
       "      <td>0.82538</td>\n",
       "      <td>0.52530</td>\n",
       "      <td>0.91922</td>\n",
       "      <td>-0.065115</td>\n",
       "      <td>0.298940</td>\n",
       "      <td>0.006893</td>\n",
       "      <td>-0.92290</td>\n",
       "      <td>0.37910</td>\n",
       "      <td>-3.80370</td>\n",
       "      <td>...</td>\n",
       "      <td>0.715580</td>\n",
       "      <td>0.287240</td>\n",
       "      <td>-2.4302</td>\n",
       "      <td>-1.00280</td>\n",
       "      <td>-0.012888</td>\n",
       "      <td>0.052076</td>\n",
       "      <td>-6.4436</td>\n",
       "      <td>11.1880</td>\n",
       "      <td>-1.57110</td>\n",
       "      <td>1</td>\n",
       "    </tr>\n",
       "    <tr>\n",
       "      <th>4</th>\n",
       "      <td>-0.25920</td>\n",
       "      <td>0.82538</td>\n",
       "      <td>0.52938</td>\n",
       "      <td>0.55305</td>\n",
       "      <td>-0.065115</td>\n",
       "      <td>0.298940</td>\n",
       "      <td>-0.004887</td>\n",
       "      <td>-0.93502</td>\n",
       "      <td>0.36704</td>\n",
       "      <td>-1.60670</td>\n",
       "      <td>...</td>\n",
       "      <td>1.081800</td>\n",
       "      <td>-0.078928</td>\n",
       "      <td>-2.0641</td>\n",
       "      <td>-0.99475</td>\n",
       "      <td>0.002534</td>\n",
       "      <td>0.048169</td>\n",
       "      <td>-6.4436</td>\n",
       "      <td>11.1880</td>\n",
       "      <td>-1.57110</td>\n",
       "      <td>1</td>\n",
       "    </tr>\n",
       "    <tr>\n",
       "      <th>5</th>\n",
       "      <td>-0.27873</td>\n",
       "      <td>0.82538</td>\n",
       "      <td>0.52121</td>\n",
       "      <td>0.18689</td>\n",
       "      <td>-0.065115</td>\n",
       "      <td>0.298940</td>\n",
       "      <td>0.010820</td>\n",
       "      <td>-0.92694</td>\n",
       "      <td>0.36704</td>\n",
       "      <td>0.22414</td>\n",
       "      <td>...</td>\n",
       "      <td>0.715580</td>\n",
       "      <td>-0.445090</td>\n",
       "      <td>-2.0641</td>\n",
       "      <td>-1.01080</td>\n",
       "      <td>-0.005177</td>\n",
       "      <td>0.055983</td>\n",
       "      <td>-7.9083</td>\n",
       "      <td>9.7235</td>\n",
       "      <td>-0.10648</td>\n",
       "      <td>1</td>\n",
       "    </tr>\n",
       "    <tr>\n",
       "      <th>6</th>\n",
       "      <td>-0.27483</td>\n",
       "      <td>0.82538</td>\n",
       "      <td>0.51304</td>\n",
       "      <td>0.18689</td>\n",
       "      <td>0.301050</td>\n",
       "      <td>0.298940</td>\n",
       "      <td>0.010820</td>\n",
       "      <td>-0.93502</td>\n",
       "      <td>0.36302</td>\n",
       "      <td>1.32260</td>\n",
       "      <td>...</td>\n",
       "      <td>-0.016749</td>\n",
       "      <td>-0.811260</td>\n",
       "      <td>-2.4302</td>\n",
       "      <td>-1.02280</td>\n",
       "      <td>-0.001321</td>\n",
       "      <td>0.052076</td>\n",
       "      <td>-7.9083</td>\n",
       "      <td>9.7235</td>\n",
       "      <td>-0.10648</td>\n",
       "      <td>1</td>\n",
       "    </tr>\n",
       "    <tr>\n",
       "      <th>7</th>\n",
       "      <td>-0.27483</td>\n",
       "      <td>0.82538</td>\n",
       "      <td>0.50488</td>\n",
       "      <td>0.18689</td>\n",
       "      <td>-0.065115</td>\n",
       "      <td>0.298940</td>\n",
       "      <td>-0.008814</td>\n",
       "      <td>-0.93098</td>\n",
       "      <td>0.37106</td>\n",
       "      <td>0.22414</td>\n",
       "      <td>...</td>\n",
       "      <td>-0.016749</td>\n",
       "      <td>-0.811260</td>\n",
       "      <td>-2.4302</td>\n",
       "      <td>-1.01080</td>\n",
       "      <td>0.010245</td>\n",
       "      <td>0.055983</td>\n",
       "      <td>-7.9083</td>\n",
       "      <td>9.7235</td>\n",
       "      <td>1.35820</td>\n",
       "      <td>1</td>\n",
       "    </tr>\n",
       "    <tr>\n",
       "      <th>8</th>\n",
       "      <td>-0.27483</td>\n",
       "      <td>0.80934</td>\n",
       "      <td>0.53755</td>\n",
       "      <td>0.18689</td>\n",
       "      <td>-0.065115</td>\n",
       "      <td>0.298940</td>\n",
       "      <td>-0.020594</td>\n",
       "      <td>-0.93502</td>\n",
       "      <td>0.37910</td>\n",
       "      <td>-0.50820</td>\n",
       "      <td>...</td>\n",
       "      <td>-0.016749</td>\n",
       "      <td>-1.177400</td>\n",
       "      <td>-2.4302</td>\n",
       "      <td>-1.00680</td>\n",
       "      <td>-0.001321</td>\n",
       "      <td>0.052076</td>\n",
       "      <td>-7.9083</td>\n",
       "      <td>9.7235</td>\n",
       "      <td>-0.10648</td>\n",
       "      <td>1</td>\n",
       "    </tr>\n",
       "    <tr>\n",
       "      <th>9</th>\n",
       "      <td>-0.26701</td>\n",
       "      <td>0.80534</td>\n",
       "      <td>0.54572</td>\n",
       "      <td>0.18689</td>\n",
       "      <td>-0.065115</td>\n",
       "      <td>-0.067229</td>\n",
       "      <td>-0.000960</td>\n",
       "      <td>-0.93098</td>\n",
       "      <td>0.36302</td>\n",
       "      <td>-2.33900</td>\n",
       "      <td>...</td>\n",
       "      <td>0.349420</td>\n",
       "      <td>-1.543600</td>\n",
       "      <td>-2.7964</td>\n",
       "      <td>-1.00680</td>\n",
       "      <td>0.002534</td>\n",
       "      <td>0.044262</td>\n",
       "      <td>-7.9083</td>\n",
       "      <td>9.7235</td>\n",
       "      <td>-0.10648</td>\n",
       "      <td>1</td>\n",
       "    </tr>\n",
       "  </tbody>\n",
       "</table>\n",
       "<p>10 rows × 25 columns</p>\n",
       "</div>"
      ],
      "text/plain": [
       "        0        1        2        3         4         5         6        7   \\\n",
       "0 -0.28655  0.81335  0.51713  1.28540  0.301050  0.298940 -0.024521 -0.89867   \n",
       "1 -0.28655  0.82538  0.51304  1.28540 -0.065115 -0.067229  0.014747 -0.91887   \n",
       "2 -0.28655  0.82538  0.52938  1.28540 -0.065115  0.298940 -0.004887 -0.91079   \n",
       "3 -0.27092  0.82538  0.52530  0.91922 -0.065115  0.298940  0.006893 -0.92290   \n",
       "4 -0.25920  0.82538  0.52938  0.55305 -0.065115  0.298940 -0.004887 -0.93502   \n",
       "5 -0.27873  0.82538  0.52121  0.18689 -0.065115  0.298940  0.010820 -0.92694   \n",
       "6 -0.27483  0.82538  0.51304  0.18689  0.301050  0.298940  0.010820 -0.93502   \n",
       "7 -0.27483  0.82538  0.50488  0.18689 -0.065115  0.298940 -0.008814 -0.93098   \n",
       "8 -0.27483  0.80934  0.53755  0.18689 -0.065115  0.298940 -0.020594 -0.93502   \n",
       "9 -0.26701  0.80534  0.54572  0.18689 -0.065115 -0.067229 -0.000960 -0.93098   \n",
       "\n",
       "        8        9   ...        15        16      17       18        19  \\\n",
       "0  0.35900 -4.16990  ... -0.016749  0.653400 -1.3317 -1.00280  0.002534   \n",
       "1  0.37508 -5.26840  ... -0.016749  0.287240 -1.6979 -0.99475  0.006390   \n",
       "2  0.37508 -4.90220  ... -0.016749  0.287240 -1.6979 -1.00280  0.006390   \n",
       "3  0.37910 -3.80370  ...  0.715580  0.287240 -2.4302 -1.00280 -0.012888   \n",
       "4  0.36704 -1.60670  ...  1.081800 -0.078928 -2.0641 -0.99475  0.002534   \n",
       "5  0.36704  0.22414  ...  0.715580 -0.445090 -2.0641 -1.01080 -0.005177   \n",
       "6  0.36302  1.32260  ... -0.016749 -0.811260 -2.4302 -1.02280 -0.001321   \n",
       "7  0.37106  0.22414  ... -0.016749 -0.811260 -2.4302 -1.01080  0.010245   \n",
       "8  0.37910 -0.50820  ... -0.016749 -1.177400 -2.4302 -1.00680 -0.001321   \n",
       "9  0.36302 -2.33900  ...  0.349420 -1.543600 -2.7964 -1.00680  0.002534   \n",
       "\n",
       "         20      21       22       23  24  \n",
       "0  0.055983 -6.4436  11.1880 -1.57110   1  \n",
       "1  0.036448 -6.4436  11.1880 -1.57110   1  \n",
       "2  0.044262 -6.4436  11.1880 -1.57110   1  \n",
       "3  0.052076 -6.4436  11.1880 -1.57110   1  \n",
       "4  0.048169 -6.4436  11.1880 -1.57110   1  \n",
       "5  0.055983 -7.9083   9.7235 -0.10648   1  \n",
       "6  0.052076 -7.9083   9.7235 -0.10648   1  \n",
       "7  0.055983 -7.9083   9.7235  1.35820   1  \n",
       "8  0.052076 -7.9083   9.7235 -0.10648   1  \n",
       "9  0.044262 -7.9083   9.7235 -0.10648   1  \n",
       "\n",
       "[10 rows x 25 columns]"
      ]
     },
     "execution_count": 14,
     "metadata": {},
     "output_type": "execute_result"
    }
   ],
   "source": [
    "df = pd.read_csv('dataset_2.txt', sep=',', header=None)  # use pandas to read csv file\n",
    "print('The dataset contains %d rows.' % len(df)) \n",
    "df.head(10) # show first 5 rows of the dataset\n"
   ]
  }
 ],
 "metadata": {
  "kernelspec": {
   "display_name": "Python 3",
   "language": "python",
   "name": "python3"
  },
  "language_info": {
   "codemirror_mode": {
    "name": "ipython",
    "version": 3
   },
   "file_extension": ".py",
   "mimetype": "text/x-python",
   "name": "python",
   "nbconvert_exporter": "python",
   "pygments_lexer": "ipython3",
   "version": "3.7.3"
  }
 },
 "nbformat": 4,
 "nbformat_minor": 2
}
